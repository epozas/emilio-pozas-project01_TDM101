{
 "cells": [
  {
   "cell_type": "markdown",
   "id": "be02a957-7133-4d02-818e-fedeb3cecb05",
   "metadata": {},
   "source": [
    "# Project 01 -- Emilio Pozas"
   ]
  },
  {
   "cell_type": "markdown",
   "id": "a1228853-dd19-4ab2-89e0-0394d7d72de3",
   "metadata": {},
   "source": [
    "**TA Help:** N/A\n",
    "    \n",
    "**Collaboration:** N/A\n",
    "\n",
    "**Help:** Used examples book videos to go through the project. "
   ]
  },
  {
   "cell_type": "markdown",
   "id": "6180e742-8e39-4698-98ff-5b00c8cf8ea0",
   "metadata": {},
   "source": [
    "## Question 1"
   ]
  },
  {
   "cell_type": "markdown",
   "id": "b456e57c-4a12-464b-999a-ef2df5af80c1",
   "metadata": {},
   "source": [
    "A. The Anvil sub-clusters A, B, and G have a combined 134,144 cores and 296,000 GB of memory.\n",
    "\n",
    "B. My PC has 1 Core and 16 GB of memory."
   ]
  },
  {
   "cell_type": "markdown",
   "id": "fc601975-35ed-4680-a4e1-0273ee3cc047",
   "metadata": {},
   "source": [
    "## Question 2"
   ]
  },
  {
   "cell_type": "code",
   "execution_count": 1,
   "id": "a16336a1-1ef0-41e8-bc7c-49387db27497",
   "metadata": {},
   "outputs": [
    {
     "name": "stdout",
     "output_type": "stream",
     "text": [
      "a240.anvil.rcac.purdue.edu\n"
     ]
    }
   ],
   "source": [
    "import socket\n",
    "print(socket.gethostname())"
   ]
  },
  {
   "cell_type": "code",
   "execution_count": 2,
   "id": "8232c099-6e14-4311-8019-df4da8209edd",
   "metadata": {},
   "outputs": [
    {
     "name": "stdout",
     "output_type": "stream",
     "text": [
      "[1] \"a240.anvil.rcac.purdue.edu\"\n"
     ]
    },
    {
     "data": {
      "text/plain": [
       "In addition: Warning message:\n",
       "In (function (package, help, pos = 2, lib.loc = NULL, character.only = FALSE,  :\n",
       "  library ‘/usr/local/lib/R/site-library’ contains no packages\n"
      ]
     },
     "metadata": {},
     "output_type": "display_data"
    }
   ],
   "source": [
    "%%R\n",
    "\n",
    "system(\"hostname\", intern=TRUE)"
   ]
  },
  {
   "cell_type": "code",
   "execution_count": 3,
   "id": "3826918f-b0cb-4665-a66c-550184b789b6",
   "metadata": {},
   "outputs": [
    {
     "name": "stdout",
     "output_type": "stream",
     "text": [
      "a240.anvil.rcac.purdue.edu\n"
     ]
    }
   ],
   "source": [
    "%%bash\n",
    "\n",
    "hostname"
   ]
  },
  {
   "cell_type": "markdown",
   "id": "14dc22d4-ddc3-41cc-a91a-cb0025bc0c80",
   "metadata": {},
   "source": [
    "A. The name of the node is a240.anvil.rcac.purdue.edu (In python)\n",
    "B. The name of the node is a240.anvil.rcac.purdue.edu (In R)\n",
    "C. The name of the node is a240.anvil.rcac.purdue.edu (In Bash)\n"
   ]
  },
  {
   "cell_type": "markdown",
   "id": "8e586edd-ff26-4ce2-8f6b-2424b26f2929",
   "metadata": {},
   "source": [
    "## Question 3"
   ]
  },
  {
   "cell_type": "code",
   "execution_count": 1,
   "id": "bbe0f40d-9655-4653-9ca8-886bdb61cb91",
   "metadata": {},
   "outputs": [],
   "source": [
    "import pandas as pd\n",
    "df = pd.read_csv('/anvil/projects/tdm/data/flights/subset/1991.csv') \n",
    "#Kernel unable to run this line of code. Meaning no variable \"df\" is created."
   ]
  },
  {
   "cell_type": "code",
   "execution_count": 2,
   "id": "0e8a8db2-d6ad-4d11-a030-b898f106d92d",
   "metadata": {},
   "outputs": [
    {
     "data": {
      "text/html": [
       "<div>\n",
       "<style scoped>\n",
       "    .dataframe tbody tr th:only-of-type {\n",
       "        vertical-align: middle;\n",
       "    }\n",
       "\n",
       "    .dataframe tbody tr th {\n",
       "        vertical-align: top;\n",
       "    }\n",
       "\n",
       "    .dataframe thead th {\n",
       "        text-align: right;\n",
       "    }\n",
       "</style>\n",
       "<table border=\"1\" class=\"dataframe\">\n",
       "  <thead>\n",
       "    <tr style=\"text-align: right;\">\n",
       "      <th></th>\n",
       "      <th>Year</th>\n",
       "      <th>Month</th>\n",
       "      <th>DayofMonth</th>\n",
       "      <th>DayOfWeek</th>\n",
       "      <th>DepTime</th>\n",
       "      <th>CRSDepTime</th>\n",
       "      <th>ArrTime</th>\n",
       "      <th>CRSArrTime</th>\n",
       "      <th>UniqueCarrier</th>\n",
       "      <th>FlightNum</th>\n",
       "      <th>...</th>\n",
       "      <th>TaxiIn</th>\n",
       "      <th>TaxiOut</th>\n",
       "      <th>Cancelled</th>\n",
       "      <th>CancellationCode</th>\n",
       "      <th>Diverted</th>\n",
       "      <th>CarrierDelay</th>\n",
       "      <th>WeatherDelay</th>\n",
       "      <th>NASDelay</th>\n",
       "      <th>SecurityDelay</th>\n",
       "      <th>LateAircraftDelay</th>\n",
       "    </tr>\n",
       "  </thead>\n",
       "  <tbody>\n",
       "    <tr>\n",
       "      <th>4657380</th>\n",
       "      <td>1991</td>\n",
       "      <td>12</td>\n",
       "      <td>29</td>\n",
       "      <td>7</td>\n",
       "      <td>1631.0</td>\n",
       "      <td>1630</td>\n",
       "      <td>1829.0</td>\n",
       "      <td>1828</td>\n",
       "      <td>UA</td>\n",
       "      <td>1770</td>\n",
       "      <td>...</td>\n",
       "      <td>NaN</td>\n",
       "      <td>NaN</td>\n",
       "      <td>0</td>\n",
       "      <td>NaN</td>\n",
       "      <td>0</td>\n",
       "      <td>NaN</td>\n",
       "      <td>NaN</td>\n",
       "      <td>NaN</td>\n",
       "      <td>NaN</td>\n",
       "      <td>NaN</td>\n",
       "    </tr>\n",
       "    <tr>\n",
       "      <th>4657381</th>\n",
       "      <td>1991</td>\n",
       "      <td>12</td>\n",
       "      <td>30</td>\n",
       "      <td>1</td>\n",
       "      <td>1630.0</td>\n",
       "      <td>1630</td>\n",
       "      <td>1823.0</td>\n",
       "      <td>1828</td>\n",
       "      <td>UA</td>\n",
       "      <td>1770</td>\n",
       "      <td>...</td>\n",
       "      <td>NaN</td>\n",
       "      <td>NaN</td>\n",
       "      <td>0</td>\n",
       "      <td>NaN</td>\n",
       "      <td>0</td>\n",
       "      <td>NaN</td>\n",
       "      <td>NaN</td>\n",
       "      <td>NaN</td>\n",
       "      <td>NaN</td>\n",
       "      <td>NaN</td>\n",
       "    </tr>\n",
       "    <tr>\n",
       "      <th>4657382</th>\n",
       "      <td>1991</td>\n",
       "      <td>12</td>\n",
       "      <td>31</td>\n",
       "      <td>2</td>\n",
       "      <td>1628.0</td>\n",
       "      <td>1630</td>\n",
       "      <td>1820.0</td>\n",
       "      <td>1828</td>\n",
       "      <td>UA</td>\n",
       "      <td>1770</td>\n",
       "      <td>...</td>\n",
       "      <td>NaN</td>\n",
       "      <td>NaN</td>\n",
       "      <td>0</td>\n",
       "      <td>NaN</td>\n",
       "      <td>0</td>\n",
       "      <td>NaN</td>\n",
       "      <td>NaN</td>\n",
       "      <td>NaN</td>\n",
       "      <td>NaN</td>\n",
       "      <td>NaN</td>\n",
       "    </tr>\n",
       "    <tr>\n",
       "      <th>4657383</th>\n",
       "      <td>1991</td>\n",
       "      <td>12</td>\n",
       "      <td>1</td>\n",
       "      <td>7</td>\n",
       "      <td>1922.0</td>\n",
       "      <td>1922</td>\n",
       "      <td>2040.0</td>\n",
       "      <td>2045</td>\n",
       "      <td>UA</td>\n",
       "      <td>1774</td>\n",
       "      <td>...</td>\n",
       "      <td>NaN</td>\n",
       "      <td>NaN</td>\n",
       "      <td>0</td>\n",
       "      <td>NaN</td>\n",
       "      <td>0</td>\n",
       "      <td>NaN</td>\n",
       "      <td>NaN</td>\n",
       "      <td>NaN</td>\n",
       "      <td>NaN</td>\n",
       "      <td>NaN</td>\n",
       "    </tr>\n",
       "    <tr>\n",
       "      <th>4657384</th>\n",
       "      <td>1991</td>\n",
       "      <td>12</td>\n",
       "      <td>2</td>\n",
       "      <td>1</td>\n",
       "      <td>2005.0</td>\n",
       "      <td>1922</td>\n",
       "      <td>2119.0</td>\n",
       "      <td>2045</td>\n",
       "      <td>UA</td>\n",
       "      <td>1774</td>\n",
       "      <td>...</td>\n",
       "      <td>NaN</td>\n",
       "      <td>NaN</td>\n",
       "      <td>0</td>\n",
       "      <td>NaN</td>\n",
       "      <td>0</td>\n",
       "      <td>NaN</td>\n",
       "      <td>NaN</td>\n",
       "      <td>NaN</td>\n",
       "      <td>NaN</td>\n",
       "      <td>NaN</td>\n",
       "    </tr>\n",
       "  </tbody>\n",
       "</table>\n",
       "<p>5 rows × 29 columns</p>\n",
       "</div>"
      ],
      "text/plain": [
       "         Year  Month  DayofMonth  DayOfWeek  DepTime  CRSDepTime  ArrTime  \\\n",
       "4657380  1991     12          29          7   1631.0        1630   1829.0   \n",
       "4657381  1991     12          30          1   1630.0        1630   1823.0   \n",
       "4657382  1991     12          31          2   1628.0        1630   1820.0   \n",
       "4657383  1991     12           1          7   1922.0        1922   2040.0   \n",
       "4657384  1991     12           2          1   2005.0        1922   2119.0   \n",
       "\n",
       "         CRSArrTime UniqueCarrier  FlightNum  ...  TaxiIn  TaxiOut  Cancelled  \\\n",
       "4657380        1828            UA       1770  ...     NaN      NaN          0   \n",
       "4657381        1828            UA       1770  ...     NaN      NaN          0   \n",
       "4657382        1828            UA       1770  ...     NaN      NaN          0   \n",
       "4657383        2045            UA       1774  ...     NaN      NaN          0   \n",
       "4657384        2045            UA       1774  ...     NaN      NaN          0   \n",
       "\n",
       "         CancellationCode  Diverted  CarrierDelay WeatherDelay NASDelay  \\\n",
       "4657380               NaN         0           NaN          NaN      NaN   \n",
       "4657381               NaN         0           NaN          NaN      NaN   \n",
       "4657382               NaN         0           NaN          NaN      NaN   \n",
       "4657383               NaN         0           NaN          NaN      NaN   \n",
       "4657384               NaN         0           NaN          NaN      NaN   \n",
       "\n",
       "         SecurityDelay  LateAircraftDelay  \n",
       "4657380            NaN                NaN  \n",
       "4657381            NaN                NaN  \n",
       "4657382            NaN                NaN  \n",
       "4657383            NaN                NaN  \n",
       "4657384            NaN                NaN  \n",
       "\n",
       "[5 rows x 29 columns]"
      ]
     },
     "execution_count": 2,
     "metadata": {},
     "output_type": "execute_result"
    }
   ],
   "source": [
    "df[df[\"Month\"]==12].head() # see information about a few of the flights from December 1991"
   ]
  },
  {
   "cell_type": "code",
   "execution_count": 2,
   "id": "94eb9228-aac0-4862-855e-a9ce9dee52a4",
   "metadata": {},
   "outputs": [],
   "source": [
    "%sql sqlite:////anvil/projects/tdm/data/movies_and_tv/imdb.db"
   ]
  },
  {
   "cell_type": "code",
   "execution_count": 3,
   "id": "7a2c029a-a88a-47a4-9a57-e79a9e1ebee7",
   "metadata": {},
   "outputs": [
    {
     "name": "stdout",
     "output_type": "stream",
     "text": [
      " * sqlite:////anvil/projects/tdm/data/movies_and_tv/imdb.db\n",
      "Done.\n"
     ]
    },
    {
     "data": {
      "text/html": [
       "<table>\n",
       "    <tr>\n",
       "        <th>episode_title_id</th>\n",
       "        <th>show_title_id</th>\n",
       "        <th>season_number</th>\n",
       "        <th>episode_number</th>\n",
       "        <th>title_id</th>\n",
       "        <th>type</th>\n",
       "        <th>primary_title</th>\n",
       "        <th>original_title</th>\n",
       "        <th>is_adult</th>\n",
       "        <th>premiered</th>\n",
       "        <th>ended</th>\n",
       "        <th>runtime_minutes</th>\n",
       "        <th>genres</th>\n",
       "    </tr>\n",
       "    <tr>\n",
       "        <td>tt0506978</td>\n",
       "        <td>tt0285332</td>\n",
       "        <td>1</td>\n",
       "        <td>22</td>\n",
       "        <td>tt0506978</td>\n",
       "        <td>tvEpisode</td>\n",
       "        <td>Finale</td>\n",
       "        <td>Finale</td>\n",
       "        <td>0</td>\n",
       "        <td>2002</td>\n",
       "        <td>None</td>\n",
       "        <td>None</td>\n",
       "        <td>Drama,Thriller</td>\n",
       "    </tr>\n",
       "    <tr>\n",
       "        <td>tt0519805</td>\n",
       "        <td>tt0210405</td>\n",
       "        <td>3</td>\n",
       "        <td>10</td>\n",
       "        <td>tt0519805</td>\n",
       "        <td>tvEpisode</td>\n",
       "        <td>Finale</td>\n",
       "        <td>Finale</td>\n",
       "        <td>0</td>\n",
       "        <td>1993</td>\n",
       "        <td>None</td>\n",
       "        <td>None</td>\n",
       "        <td>Drama</td>\n",
       "    </tr>\n",
       "    <tr>\n",
       "        <td>tt0566236</td>\n",
       "        <td>tt0169438</td>\n",
       "        <td>8</td>\n",
       "        <td>31</td>\n",
       "        <td>tt0566236</td>\n",
       "        <td>tvEpisode</td>\n",
       "        <td>Finale</td>\n",
       "        <td>Finale</td>\n",
       "        <td>0</td>\n",
       "        <td>2005</td>\n",
       "        <td>None</td>\n",
       "        <td>None</td>\n",
       "        <td>Drama,Sport</td>\n",
       "    </tr>\n",
       "    <tr>\n",
       "        <td>tt0566422</td>\n",
       "        <td>tt0111945</td>\n",
       "        <td>9</td>\n",
       "        <td>26</td>\n",
       "        <td>tt0566422</td>\n",
       "        <td>tvEpisode</td>\n",
       "        <td>Finale</td>\n",
       "        <td>Finale</td>\n",
       "        <td>0</td>\n",
       "        <td>2004</td>\n",
       "        <td>None</td>\n",
       "        <td>None</td>\n",
       "        <td>Comedy,Drama</td>\n",
       "    </tr>\n",
       "    <tr>\n",
       "        <td>tt0581864</td>\n",
       "        <td>tt0044263</td>\n",
       "        <td>2</td>\n",
       "        <td>1</td>\n",
       "        <td>tt0581864</td>\n",
       "        <td>tvEpisode</td>\n",
       "        <td>Finale</td>\n",
       "        <td>Finale</td>\n",
       "        <td>0</td>\n",
       "        <td>1953</td>\n",
       "        <td>None</td>\n",
       "        <td>30</td>\n",
       "        <td>Comedy,Crime,Drama</td>\n",
       "    </tr>\n",
       "</table>"
      ],
      "text/plain": [
       "[('tt0506978', 'tt0285332', 1, 22, 'tt0506978', 'tvEpisode', 'Finale', 'Finale', 0, 2002, None, None, 'Drama,Thriller'),\n",
       " ('tt0519805', 'tt0210405', 3, 10, 'tt0519805', 'tvEpisode', 'Finale', 'Finale', 0, 1993, None, None, 'Drama'),\n",
       " ('tt0566236', 'tt0169438', 8, 31, 'tt0566236', 'tvEpisode', 'Finale', 'Finale', 0, 2005, None, None, 'Drama,Sport'),\n",
       " ('tt0566422', 'tt0111945', 9, 26, 'tt0566422', 'tvEpisode', 'Finale', 'Finale', 0, 2004, None, None, 'Comedy,Drama'),\n",
       " ('tt0581864', 'tt0044263', 2, 1, 'tt0581864', 'tvEpisode', 'Finale', 'Finale', 0, 1953, None, 30, 'Comedy,Crime,Drama')]"
      ]
     },
     "execution_count": 3,
     "metadata": {},
     "output_type": "execute_result"
    }
   ],
   "source": [
    "%%sql\n",
    "\n",
    "-- see information about a few TV episodes called \"Finale\"\n",
    "SELECT *\n",
    "FROM episodes AS e\n",
    "INNER JOIN titles AS t\n",
    "ON t.title_id = e.episode_title_id\n",
    "WHERE t.primary_title = 'Finale'\n",
    "LIMIT 5;"
   ]
  },
  {
   "cell_type": "code",
   "execution_count": 4,
   "id": "1997241b-5b2a-47db-8bd8-920a3d2dd707",
   "metadata": {},
   "outputs": [
    {
     "name": "stdout",
     "output_type": "stream",
     "text": [
      "Arthur Morgan\n",
      "John Marston\n"
     ]
    }
   ],
   "source": [
    "%%bash\n",
    "\n",
    "names=\"John Doe;Bill Withers;Arthur Morgan;Mary Jane;Rick Ross;John Marston\"\n",
    "echo $names | cut -d ';' -f 3\n",
    "echo $names | cut -d ';' -f 6"
   ]
  },
  {
   "cell_type": "markdown",
   "id": "da22f29c-d245-4d2b-9fc1-ca14cb6087d9",
   "metadata": {},
   "source": [
    "## Question 4"
   ]
  },
  {
   "cell_type": "code",
   "execution_count": 2,
   "id": "8cffc767-d1c8-4d64-b7dc-f0d2ee8a80d1",
   "metadata": {},
   "outputs": [
    {
     "data": {
      "text/plain": [
       "134144"
      ]
     },
     "execution_count": 2,
     "metadata": {},
     "output_type": "execute_result"
    }
   ],
   "source": [
    "#Calculate cores on anvil sub-clusters A, B, and G\n",
    "128*(1000+32+16)"
   ]
  },
  {
   "cell_type": "code",
   "execution_count": 3,
   "id": "383b7734-5f59-45f7-9d35-0b4e4e7f1d64",
   "metadata": {},
   "outputs": [
    {
     "data": {
      "text/plain": [
       "296000"
      ]
     },
     "execution_count": 3,
     "metadata": {},
     "output_type": "execute_result"
    }
   ],
   "source": [
    "#Calculate the memory on anvil sub-clusters A, B and G\n",
    "1000*256+32*1000+16*500"
   ]
  },
  {
   "cell_type": "code",
   "execution_count": 4,
   "id": "7540396d-1a59-41b0-bd1c-dc83871da342",
   "metadata": {},
   "outputs": [
    {
     "name": "stdout",
     "output_type": "stream",
     "text": [
      "[1] 134144\n"
     ]
    },
    {
     "data": {
      "text/plain": [
       "In addition: Warning message:\n",
       "In (function (package, help, pos = 2, lib.loc = NULL, character.only = FALSE,  :\n",
       "  library ‘/usr/local/lib/R/site-library’ contains no packages\n"
      ]
     },
     "metadata": {},
     "output_type": "display_data"
    }
   ],
   "source": [
    "%%R\n",
    "128*(1000+32+16)"
   ]
  },
  {
   "cell_type": "code",
   "execution_count": 5,
   "id": "29d4ae8a-4519-4621-8bd6-e6bb14b5f8de",
   "metadata": {},
   "outputs": [
    {
     "name": "stdout",
     "output_type": "stream",
     "text": [
      "[1] 296000\n"
     ]
    }
   ],
   "source": [
    "%%R\n",
    "1000*256+32*1000+16*500"
   ]
  },
  {
   "cell_type": "markdown",
   "id": "88c9cdac-3e92-498f-83fa-e089bfc44ac8",
   "metadata": {},
   "source": [
    "## Question 5"
   ]
  },
  {
   "cell_type": "code",
   "execution_count": 6,
   "id": "d370d7c9-06db-42b9-b75f-240481a5c491",
   "metadata": {},
   "outputs": [],
   "source": [
    "%%R\n",
    "\n",
    "dat <- read.csv(\"/anvil/projects/tdm/data/disney/flight_of_passage.csv\")"
   ]
  },
  {
   "cell_type": "code",
   "execution_count": 7,
   "id": "93191c90-fd9a-47ac-8437-4eaa9913b29a",
   "metadata": {},
   "outputs": [
    {
     "name": "stdout",
     "output_type": "stream",
     "text": [
      "        date            datetime SACTMIN SPOSTMIN\n",
      "1 05/26/2017 2017-05-26 09:06:38      NA     -999\n",
      "2 05/26/2017 2017-05-26 09:10:11      47       NA\n",
      "3 05/26/2017 2017-05-26 09:10:12      NA        5\n",
      "4 05/26/2017 2017-05-26 09:17:09      NA       60\n",
      "5 05/26/2017 2017-05-26 09:24:07      NA       60\n",
      "6 05/26/2017 2017-05-26 09:30:10      NA       60\n"
     ]
    }
   ],
   "source": [
    "%%R\n",
    "\n",
    "head(dat)"
   ]
  },
  {
   "cell_type": "code",
   "execution_count": 8,
   "id": "39455577-8c5d-4299-8998-fad7f57ecb72",
   "metadata": {},
   "outputs": [],
   "source": [
    "%%R\n",
    "\n",
    "flight_of_passage <- dat"
   ]
  },
  {
   "cell_type": "code",
   "execution_count": 9,
   "id": "aa6d981a-8e8c-4206-b9c6-2d514d861adc",
   "metadata": {},
   "outputs": [
    {
     "name": "stdout",
     "output_type": "stream",
     "text": [
      "        date            datetime SACTMIN SPOSTMIN\n",
      "1 05/26/2017 2017-05-26 09:06:38      NA     -999\n",
      "2 05/26/2017 2017-05-26 09:10:11      47       NA\n",
      "3 05/26/2017 2017-05-26 09:10:12      NA        5\n",
      "4 05/26/2017 2017-05-26 09:17:09      NA       60\n",
      "5 05/26/2017 2017-05-26 09:24:07      NA       60\n",
      "6 05/26/2017 2017-05-26 09:30:10      NA       60\n"
     ]
    }
   ],
   "source": [
    "%%R \n",
    "\n",
    "head(flight_of_passage)"
   ]
  },
  {
   "cell_type": "code",
   "execution_count": 2,
   "id": "720fac55-5373-4ec1-a670-2ce455b59953",
   "metadata": {},
   "outputs": [
    {
     "name": "stdout",
     "output_type": "stream",
     "text": [
      "Error in (function (expr, envir = parent.frame(), enclos = if (is.list(envir) ||  : \n",
      "  object 'dat' not found\n",
      "In addition: Warning messages:\n",
      "1: In (function (package, help, pos = 2, lib.loc = NULL, character.only = FALSE,  :\n",
      "  library ‘/usr/local/lib/R/site-library’ contains no packages\n",
      "2: In rm(dat) : object 'dat' not found\n",
      "Error in (function (expr, envir = parent.frame(), enclos = if (is.list(envir) ||  : \n",
      "  object 'dat' not found\n"
     ]
    },
    {
     "ename": "RInterpreterError",
     "evalue": "Failed to parse and evaluate line '\\nrm(dat)\\nhead(dat)\\n'.\nR error message: \"Error in (function (expr, envir = parent.frame(), enclos = if (is.list(envir) ||  : \\n  object 'dat' not found\"\nR stdout:\nError in (function (expr, envir = parent.frame(), enclos = if (is.list(envir) ||  : \n  object 'dat' not found\nIn addition: Warning messages:\n1: In (function (package, help, pos = 2, lib.loc = NULL, character.only = FALSE,  :\n  library ‘/usr/local/lib/R/site-library’ contains no packages\n2: In rm(dat) : object 'dat' not found",
     "output_type": "error",
     "traceback": [
      "\u001b[0;31m---------------------------------------------------------------------------\u001b[0m",
      "\u001b[0;31mRRuntimeError\u001b[0m                             Traceback (most recent call last)",
      "File \u001b[0;32m/usr/local/lib/python3.11/site-packages/rpy2/ipython/rmagic.py:401\u001b[0m, in \u001b[0;36mRMagics.eval\u001b[0;34m(self, code)\u001b[0m\n\u001b[1;32m    400\u001b[0m     r_expr \u001b[38;5;241m=\u001b[39m ri\u001b[38;5;241m.\u001b[39mparse(code)\n\u001b[0;32m--> 401\u001b[0m     value, visible \u001b[38;5;241m=\u001b[39m ri\u001b[38;5;241m.\u001b[39mevalr_expr_with_visible(\n\u001b[1;32m    402\u001b[0m         r_expr\n\u001b[1;32m    403\u001b[0m     )\n\u001b[1;32m    404\u001b[0m \u001b[38;5;28;01mexcept\u001b[39;00m (ri\u001b[38;5;241m.\u001b[39membedded\u001b[38;5;241m.\u001b[39mRRuntimeError, \u001b[38;5;167;01mValueError\u001b[39;00m) \u001b[38;5;28;01mas\u001b[39;00m exception:\n\u001b[1;32m    405\u001b[0m     \u001b[38;5;66;03m# Otherwise next return seems to have copy of error.\u001b[39;00m\n",
      "File \u001b[0;32m/usr/local/lib/python3.11/site-packages/rpy2/rinterface.py:183\u001b[0m, in \u001b[0;36mevalr_expr_with_visible\u001b[0;34m(expr, envir)\u001b[0m\n\u001b[1;32m    182\u001b[0m \u001b[38;5;28;01mif\u001b[39;00m error_occured[\u001b[38;5;241m0\u001b[39m]:\n\u001b[0;32m--> 183\u001b[0m     \u001b[38;5;28;01mraise\u001b[39;00m embedded\u001b[38;5;241m.\u001b[39mRRuntimeError(_rinterface\u001b[38;5;241m.\u001b[39m_geterrmessage())\n\u001b[1;32m    184\u001b[0m res \u001b[38;5;241m=\u001b[39m conversion\u001b[38;5;241m.\u001b[39m_cdata_to_rinterface(r_res)\n",
      "\u001b[0;31mRRuntimeError\u001b[0m: Error in (function (expr, envir = parent.frame(), enclos = if (is.list(envir) ||  : \n  object 'dat' not found\n",
      "\nDuring handling of the above exception, another exception occurred:\n",
      "\u001b[0;31mRInterpreterError\u001b[0m                         Traceback (most recent call last)",
      "Input \u001b[0;32mIn [2]\u001b[0m, in \u001b[0;36m<cell line: 0>\u001b[0;34m()\u001b[0m\n\u001b[0;32m----> 1\u001b[0m get_ipython()\u001b[38;5;241m.\u001b[39mrun_cell_magic(\u001b[38;5;124m'\u001b[39m\u001b[38;5;124mR\u001b[39m\u001b[38;5;124m'\u001b[39m, \u001b[38;5;124m'\u001b[39m\u001b[38;5;124m'\u001b[39m, \u001b[38;5;124m'\u001b[39m\u001b[38;5;130;01m\\n\u001b[39;00m\u001b[38;5;124mrm(dat)\u001b[39m\u001b[38;5;130;01m\\n\u001b[39;00m\u001b[38;5;124mhead(dat)\u001b[39m\u001b[38;5;130;01m\\n\u001b[39;00m\u001b[38;5;124m'\u001b[39m)\n",
      "File \u001b[0;32m/usr/local/lib/python3.11/site-packages/IPython/core/interactiveshell.py:2358\u001b[0m, in \u001b[0;36mInteractiveShell.run_cell_magic\u001b[0;34m(self, magic_name, line, cell)\u001b[0m\n\u001b[1;32m   2356\u001b[0m \u001b[38;5;28;01mwith\u001b[39;00m \u001b[38;5;28mself\u001b[39m\u001b[38;5;241m.\u001b[39mbuiltin_trap:\n\u001b[1;32m   2357\u001b[0m     args \u001b[38;5;241m=\u001b[39m (magic_arg_s, cell)\n\u001b[0;32m-> 2358\u001b[0m     result \u001b[38;5;241m=\u001b[39m fn(\u001b[38;5;241m*\u001b[39margs, \u001b[38;5;241m*\u001b[39m\u001b[38;5;241m*\u001b[39mkwargs)\n\u001b[1;32m   2359\u001b[0m \u001b[38;5;28;01mreturn\u001b[39;00m result\n",
      "File \u001b[0;32m/usr/local/lib/python3.11/site-packages/rpy2/ipython/rmagic.py:978\u001b[0m, in \u001b[0;36mRMagics.R\u001b[0;34m(self, line, cell, local_ns)\u001b[0m\n\u001b[1;32m    976\u001b[0m     \u001b[38;5;28;01mif\u001b[39;00m \u001b[38;5;129;01mnot\u001b[39;00m e\u001b[38;5;241m.\u001b[39mstdout\u001b[38;5;241m.\u001b[39mendswith(e\u001b[38;5;241m.\u001b[39merr):\n\u001b[1;32m    977\u001b[0m         \u001b[38;5;28mprint\u001b[39m(e\u001b[38;5;241m.\u001b[39merr)\n\u001b[0;32m--> 978\u001b[0m     \u001b[38;5;28;01mraise\u001b[39;00m e\n\u001b[1;32m    979\u001b[0m \u001b[38;5;28;01mfinally\u001b[39;00m:\n\u001b[1;32m    980\u001b[0m     \u001b[38;5;28;01mif\u001b[39;00m \u001b[38;5;28mself\u001b[39m\u001b[38;5;241m.\u001b[39mdevice \u001b[38;5;129;01min\u001b[39;00m DEVICES_STATIC:\n",
      "File \u001b[0;32m/usr/local/lib/python3.11/site-packages/rpy2/ipython/rmagic.py:943\u001b[0m, in \u001b[0;36mRMagics.R\u001b[0;34m(self, line, cell, local_ns)\u001b[0m\n\u001b[1;32m    941\u001b[0m         return_output \u001b[38;5;241m=\u001b[39m \u001b[38;5;28;01mFalse\u001b[39;00m\n\u001b[1;32m    942\u001b[0m \u001b[38;5;28;01melse\u001b[39;00m:\n\u001b[0;32m--> 943\u001b[0m     text_result, result, visible \u001b[38;5;241m=\u001b[39m \u001b[38;5;28mself\u001b[39m\u001b[38;5;241m.\u001b[39meval(code)\n\u001b[1;32m    944\u001b[0m     text_output \u001b[38;5;241m+\u001b[39m\u001b[38;5;241m=\u001b[39m text_result\n\u001b[1;32m    945\u001b[0m     \u001b[38;5;28;01mif\u001b[39;00m visible:\n",
      "File \u001b[0;32m/usr/local/lib/python3.11/site-packages/rpy2/ipython/rmagic.py:407\u001b[0m, in \u001b[0;36mRMagics.eval\u001b[0;34m(self, code)\u001b[0m\n\u001b[1;32m    404\u001b[0m \u001b[38;5;28;01mexcept\u001b[39;00m (ri\u001b[38;5;241m.\u001b[39membedded\u001b[38;5;241m.\u001b[39mRRuntimeError, \u001b[38;5;167;01mValueError\u001b[39;00m) \u001b[38;5;28;01mas\u001b[39;00m exception:\n\u001b[1;32m    405\u001b[0m     \u001b[38;5;66;03m# Otherwise next return seems to have copy of error.\u001b[39;00m\n\u001b[1;32m    406\u001b[0m     warning_or_other_msg \u001b[38;5;241m=\u001b[39m \u001b[38;5;28mself\u001b[39m\u001b[38;5;241m.\u001b[39mflush()\n\u001b[0;32m--> 407\u001b[0m     \u001b[38;5;28;01mraise\u001b[39;00m RInterpreterError(code, \u001b[38;5;28mstr\u001b[39m(exception),\n\u001b[1;32m    408\u001b[0m                             warning_or_other_msg)\n\u001b[1;32m    409\u001b[0m \u001b[38;5;28;01mfinally\u001b[39;00m:\n\u001b[1;32m    410\u001b[0m     ro\u001b[38;5;241m.\u001b[39m_print_deferred_warnings()\n",
      "\u001b[0;31mRInterpreterError\u001b[0m: Failed to parse and evaluate line '\\nrm(dat)\\nhead(dat)\\n'.\nR error message: \"Error in (function (expr, envir = parent.frame(), enclos = if (is.list(envir) ||  : \\n  object 'dat' not found\"\nR stdout:\nError in (function (expr, envir = parent.frame(), enclos = if (is.list(envir) ||  : \n  object 'dat' not found\nIn addition: Warning messages:\n1: In (function (package, help, pos = 2, lib.loc = NULL, character.only = FALSE,  :\n  library ‘/usr/local/lib/R/site-library’ contains no packages\n2: In rm(dat) : object 'dat' not found"
     ]
    }
   ],
   "source": [
    "%%R\n",
    "\n",
    "rm(dat)\n",
    "head(dat)"
   ]
  },
  {
   "cell_type": "markdown",
   "id": "f76442d6-d02e-4f26-b9d6-c3183e1d6929",
   "metadata": {},
   "source": [
    "## Pledge\n",
    "\n",
    "By submitting this work I hereby pledge that this is my own, personal work. I've acknowledged in the designated place at the top of this file all sources that I used to complete said work, including but not limited to: online resources, books, and electronic communications. I've noted all collaboration with fellow students and/or TA's. I did not copy or plagiarize another's work.\n",
    "\n",
    "> As a Boilermaker pursuing academic excellence, I pledge to be honest and true in all that I do. Accountable together – We are Purdue."
   ]
  }
 ],
 "metadata": {
  "kernelspec": {
   "display_name": "seminar",
   "language": "python",
   "name": "seminar"
  },
  "language_info": {
   "codemirror_mode": {
    "name": "ipython",
    "version": 3
   },
   "file_extension": ".py",
   "mimetype": "text/x-python",
   "name": "python",
   "nbconvert_exporter": "python",
   "pygments_lexer": "ipython3",
   "version": "3.11.3"
  }
 },
 "nbformat": 4,
 "nbformat_minor": 5
}
